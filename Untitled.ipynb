{
 "cells": [
  {
   "cell_type": "code",
   "execution_count": 23,
   "metadata": {},
   "outputs": [
    {
     "name": "stdout",
     "output_type": "stream",
     "text": [
      "{\n",
      "     \"first_name\": \"Mahmud\",\n",
      "     \"last_name\": \"Mushfique\",\n",
      "     \"location\": {\n",
      "          \"id\": \"101889586519301\",\n",
      "          \"name\": \"Dhaka, Bangladesh\"\n",
      "     },\n",
      "     \"link\": \"https://www.facebook.com/app_scoped_user_id/YXNpZADpBWEdlYXpZAQWJnaENBNU45Q09lV3ZAvSVRaQnlEamZAyVlgxMHhQdzlnRFNnNVlGOFd5VHh5Smxic1kwVGFUWG1jRXQteF95UWs2RE9OT3RndHJSc2RmejFCbm8yeVRaSTRCeEJQWWlQNmZADRXd2QzVSWlEZD/\",\n",
      "     \"email\": \"mahmud.mushfique@gmail.com\",\n",
      "     \"id\": \"3964403643573572\"\n",
      "}\n"
     ]
    }
   ],
   "source": [
    "import json\n",
    "import facebook\n",
    "\n",
    "\n",
    "def get_basic_info(token):\n",
    "\n",
    "    graph = facebook.GraphAPI(token)\n",
    "\n",
    "    profile = graph.get_object('me',fields='first_name,last_name,location,link,email')\t\n",
    "\n",
    "    print(json.dumps(profile, indent=5))\n",
    "    \n",
    "def main():\n",
    "\n",
    "    token = \"EAAPXP2pyJHEBAIs5yTZCnpQ5TArgUD9ITNWhFeD5DcSuOjpGB9H7IpkZB9qKI0XvHsIgnUZCFZCIKZBtrbreqyyyrZAFHTbWZCoTSUQJ7HkXIS8OyUYt0tMUFZC8Dvht1bZCx7OhbwtMUOQRcQcgIonjn3GGgMPDIVazNUC8GUXiCj213Wtt1V1ZCv9FKuY932u3zLCkm57vrrVaw3zYA69IsXj8PZCAUH5XdFk0pveD0ta5gZDZD\"\n",
    "    get_basic_info(token);\n",
    "    \n",
    "    \n",
    "    \n",
    "if __name__ == '__main__':\n",
    "\n",
    "    main()"
   ]
  },
  {
   "cell_type": "code",
   "execution_count": null,
   "metadata": {},
   "outputs": [],
   "source": []
  }
 ],
 "metadata": {
  "kernelspec": {
   "display_name": "Python 3",
   "language": "python",
   "name": "python3"
  },
  "language_info": {
   "codemirror_mode": {
    "name": "ipython",
    "version": 3
   },
   "file_extension": ".py",
   "mimetype": "text/x-python",
   "name": "python",
   "nbconvert_exporter": "python",
   "pygments_lexer": "ipython3",
   "version": "3.7.4"
  }
 },
 "nbformat": 4,
 "nbformat_minor": 2
}
