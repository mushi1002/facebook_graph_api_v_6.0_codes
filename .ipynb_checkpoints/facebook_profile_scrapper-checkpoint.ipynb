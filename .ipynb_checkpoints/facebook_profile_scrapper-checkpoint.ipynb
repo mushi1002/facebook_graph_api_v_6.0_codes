{
 "cells": [
  {
   "cell_type": "code",
   "execution_count": null,
   "metadata": {},
   "outputs": [],
   "source": [
    "    import json\n",
    "    import facebook\n",
    "    import requests\n",
    "\n",
    "    def get_basic_info(graph):\n",
    "\n",
    "\n",
    "        profile = graph.get_object('me',fields='first_name,last_name,location,link,email')\t\n",
    "\n",
    "        print(json.dumps(profile, indent=5))\n",
    "\n",
    "    def get_all_posts(graph):\n",
    "\n",
    "        posts = graph.request('/me/posts')\n",
    "        count=1\n",
    "        while \"paging\" in posts: \n",
    "            print(\"length of the dictionary\",len(posts))\n",
    "            print(\"length of the data part\",len(posts['data']))#because some posts may not have a caption\n",
    "            for post in posts[\"data\"]:\n",
    "                print(count,\"\\n\")\n",
    "                if \"message\" in post:\n",
    "                    print(post[\"message\"])\n",
    "                print(\"time :  \",post[\"created_time\"])\n",
    "                print(\"id   :\",post[\"id\"],\"\\n\\n\")\n",
    "                count=count+1\n",
    "\n",
    "            \n",
    "            posts=requests.get(posts[\"paging\"][\"next\"]).json()\n",
    "            \n",
    "        print(\"end of posts\")\n",
    "            \n",
    "    \n",
    "    def authentication():\n",
    "        \n",
    "        f = open(\"token.txt\", \"r\")\n",
    "        f1=[]\n",
    "        for x in f:\n",
    "            f1.append(x.rstrip())\n",
    "        token=f1[0]\n",
    "        graph = facebook.GraphAPI(token)\n",
    "        return graph\n",
    "        \n",
    "    def main():\n",
    "\n",
    "        graph=authentication()\n",
    "        \n",
    "        #get_basic_info(graph)\n",
    "        get_all_posts(graph)\n",
    "\n",
    "\n",
    "\n",
    "    if __name__ == '__main__':\n",
    "\n",
    "        main()"
   ]
  },
  {
   "cell_type": "code",
   "execution_count": null,
   "metadata": {},
   "outputs": [],
   "source": []
  }
 ],
 "metadata": {
  "kernelspec": {
   "display_name": "Python 3",
   "language": "python",
   "name": "python3"
  },
  "language_info": {
   "codemirror_mode": {
    "name": "ipython",
    "version": 3
   },
   "file_extension": ".py",
   "mimetype": "text/x-python",
   "name": "python",
   "nbconvert_exporter": "python",
   "pygments_lexer": "ipython3",
   "version": "3.7.4"
  }
 },
 "nbformat": 4,
 "nbformat_minor": 2
}
