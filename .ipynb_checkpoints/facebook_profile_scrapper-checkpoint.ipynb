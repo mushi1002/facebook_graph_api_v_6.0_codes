{
 "cells": [
  {
   "cell_type": "code",
   "execution_count": 4,
   "metadata": {},
   "outputs": [
    {
     "name": "stdout",
     "output_type": "stream",
     "text": [
      "{'data': []}\n"
     ]
    }
   ],
   "source": [
    "    import json\n",
    "    import facebook\n",
    "\n",
    "\n",
    "    def get_basic_info(token):\n",
    "\n",
    "        graph = facebook.GraphAPI(token)\n",
    "\n",
    "        profile = graph.get_object('me',fields='first_name,last_name,location,link,email')\t\n",
    "\n",
    "        print(json.dumps(profile, indent=5))\n",
    "\n",
    "    def get_all_posts(token):\n",
    "        graph = facebook.GraphAPI(token)\n",
    "        events = graph.request('/me/posts')\n",
    "        print(events)\n",
    "\n",
    "\n",
    "    def main():\n",
    "\n",
    "        token = \"EAAPXP2pyJHEBAGEVAfX72jwaWflFv8Xga9b7yV4rPUhYDmxOCozRXDeu4jnJSSaSHxoQwAf7ysJF7NZBBHZBXEBvIerQZBPgunrlRwZCH6ZAIfo37yjtkH9s0aa8zQZBH0MZBEcw862M5VzKLBcgYzanEL65aEDdPuDnAX1ao34lzgEcMvxLZCUYXanXEsZBHvvyqwoxAPtKxSafkSmVMqn63ttPVOvFvXpyyq3UVWpt4qgZDZD\"\n",
    "        #get_basic_info(token)\n",
    "        get_all_posts(token)\n",
    "\n",
    "\n",
    "\n",
    "    if __name__ == '__main__':\n",
    "\n",
    "        main()"
   ]
  },
  {
   "cell_type": "code",
   "execution_count": null,
   "metadata": {},
   "outputs": [],
   "source": []
  }
 ],
 "metadata": {
  "kernelspec": {
   "display_name": "Python 3",
   "language": "python",
   "name": "python3"
  },
  "language_info": {
   "codemirror_mode": {
    "name": "ipython",
    "version": 3
   },
   "file_extension": ".py",
   "mimetype": "text/x-python",
   "name": "python",
   "nbconvert_exporter": "python",
   "pygments_lexer": "ipython3",
   "version": "3.7.4"
  }
 },
 "nbformat": 4,
 "nbformat_minor": 2
}
