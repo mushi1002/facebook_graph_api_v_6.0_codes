{
 "cells": [
  {
   "cell_type": "code",
   "execution_count": 9,
   "metadata": {},
   "outputs": [
    {
     "name": "stdout",
     "output_type": "stream",
     "text": [
      "{\n",
      "     \"first_name\": \"Mahmud\",\n",
      "     \"last_name\": \"Mushfique\",\n",
      "     \"location\": {\n",
      "          \"id\": \"101889586519301\",\n",
      "          \"name\": \"Dhaka, Bangladesh\"\n",
      "     },\n",
      "     \"link\": \"https://www.facebook.com/app_scoped_user_id/YXNpZADpBWEYyNjlXU05zdThBSC1nUThOSThBMjhmTVViUE8zS0Q2X1VtckZArWkltanBSal9fU2M2bVpDV2NaRElvOTlObzFZAdGVXeUktTjQ2SkRETTFqSjVDVWZAnRFFORlhPaFFHcDBCbEQxOTRsTVN0UXd0SXcZD/\",\n",
      "     \"email\": \"mahmud.mushfique@gmail.com\",\n",
      "     \"id\": \"3964403643573572\"\n",
      "}\n"
     ]
    }
   ],
   "source": [
    "import json\n",
    "import facebook\n",
    "\n",
    "def main():\n",
    "\ttoken = \"EAAPXP2pyJHEBAOvBAZCTAcm7lpTJbRsKnSCpo0BbZB4AUpaZB46EZAYLZAWCK7FkIMzXNg2UaDmRKxrQdlb10uiY8BdLwELTQVX30iBBFkQCkqRG8stv7iowVZBf9WoB1thM0jSwwmMCggu8ZBMNmXnCbZCjXNWUO5tGxvLDt8DVzeM3Cg82nihd6fGKHXSPC3qB1KcZA4YrUd9C4JdtPYkQVfK4FVvnyde263LR0IrmkwgZDZD\"\n",
    "\tgraph = facebook.GraphAPI(token)\n",
    "\t#fields = ['first_name', 'location{location}','email','link']\n",
    "\tprofile = graph.get_object('me',fields='first_name,last_name,location,link,email')\t\n",
    "\t#return desired fields\n",
    "\tprint(json.dumps(profile, indent=5))\n",
    "\n",
    "if __name__ == '__main__':\n",
    "\tmain()"
   ]
  },
  {
   "cell_type": "code",
   "execution_count": null,
   "metadata": {},
   "outputs": [],
   "source": []
  }
 ],
 "metadata": {
  "kernelspec": {
   "display_name": "Python 3",
   "language": "python",
   "name": "python3"
  },
  "language_info": {
   "codemirror_mode": {
    "name": "ipython",
    "version": 3
   },
   "file_extension": ".py",
   "mimetype": "text/x-python",
   "name": "python",
   "nbconvert_exporter": "python",
   "pygments_lexer": "ipython3",
   "version": "3.7.4"
  }
 },
 "nbformat": 4,
 "nbformat_minor": 2
}
